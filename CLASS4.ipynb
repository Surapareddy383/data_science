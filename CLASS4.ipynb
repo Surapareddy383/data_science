{
 "cells": [
  {
   "cell_type": "markdown",
   "metadata": {},
   "source": [
    "## MATRIX\n",
    "- Matrix Multipliclation\n",
    "  - multiplication of two matrix\n",
    "  - dot functionality uses\n",
    "- Matrix Addition\n",
    "  - Addition of two matrix with same shape\n",
    "- Matrix Transpose\n",
    "  - Changes rows to columns and columns to rows\n",
    "- Ravel\n",
    "  - Ravel return reference/view of original array where as\n",
    "  - If you modify the array you would notice that the value of original array also changes by using.\n",
    "- Flatten\n",
    "  - Flatten returns copy of original array\n",
    "  - If you moidify the array you would  notice that the value of original array not changes.\n",
    "- Argmin\n",
    "  - Argmin function return index position of the minimum value in array based on axis(0,1)\n",
    "- Argmax\n",
    "  - Argmax function return index position of the maximum value in array based on axis(0,1)\n",
    "- Vstack\n",
    "  - Vstack function return vertical array\n",
    "- Hstack\n",
    "  - Hstack function return horizontal array \n"
   ]
  },
  {
   "cell_type": "code",
   "execution_count": 1,
   "metadata": {},
   "outputs": [],
   "source": [
    "import numpy as np"
   ]
  },
  {
   "cell_type": "code",
   "execution_count": 2,
   "metadata": {},
   "outputs": [
    {
     "data": {
      "text/plain": [
       "array([[1, 7, 6],\n",
       "       [2, 3, 4]])"
      ]
     },
     "execution_count": 2,
     "metadata": {},
     "output_type": "execute_result"
    }
   ],
   "source": [
    "a=np.array([[1,7,6],[2,3,4]])\n",
    "a"
   ]
  },
  {
   "cell_type": "code",
   "execution_count": 5,
   "metadata": {},
   "outputs": [
    {
     "data": {
      "text/plain": [
       "array([[ 1,  7,  6],\n",
       "       [ 2,  3,  4],\n",
       "       [ 2,  5, 78]])"
      ]
     },
     "execution_count": 5,
     "metadata": {},
     "output_type": "execute_result"
    }
   ],
   "source": [
    "b=np.array([[1,7,6],[2,3,4],[2,5,78]])\n",
    "b"
   ]
  },
  {
   "cell_type": "code",
   "execution_count": 6,
   "metadata": {},
   "outputs": [
    {
     "data": {
      "text/plain": [
       "array([[ 27,  58, 502],\n",
       "       [ 16,  43, 336]])"
      ]
     },
     "execution_count": 6,
     "metadata": {},
     "output_type": "execute_result"
    }
   ],
   "source": [
    "a.dot(b)"
   ]
  },
  {
   "cell_type": "code",
   "execution_count": 9,
   "metadata": {},
   "outputs": [
    {
     "data": {
      "text/plain": [
       "array([[1, 2, 3, 4],\n",
       "       [4, 5, 6, 7],\n",
       "       [7, 6, 8, 7],\n",
       "       [2, 4, 5, 9]])"
      ]
     },
     "execution_count": 9,
     "metadata": {},
     "output_type": "execute_result"
    }
   ],
   "source": [
    "arr1=np.array([[1,2,3,4],[4,5,6,7]])\n",
    "arr2=np.array([[7,6,8,7],[2,4,5,9]])\n",
    "c=np.concatenate([arr1,arr2],axis=0)\n",
    "c"
   ]
  },
  {
   "cell_type": "code",
   "execution_count": 18,
   "metadata": {},
   "outputs": [
    {
     "name": "stdout",
     "output_type": "stream",
     "text": [
      "[[1 2 3 4]\n",
      " [4 5 6 7]]\n",
      "[1 2 3 4 4 5 6 7]\n"
     ]
    }
   ],
   "source": [
    "a=np.array([[1,2,3,4],[4,5,6,7]])\n",
    "print(a)\n",
    "b=np.ravel(a)\n",
    "print(b)"
   ]
  },
  {
   "cell_type": "code",
   "execution_count": 19,
   "metadata": {},
   "outputs": [
    {
     "name": "stdout",
     "output_type": "stream",
     "text": [
      "[[1 2 3 4]\n",
      " [4 5 6 7]]\n",
      "[1 2 3 4 4 5 6 7]\n"
     ]
    }
   ],
   "source": [
    "b[-2]=6\n",
    "print(a)\n",
    "print(b)"
   ]
  },
  {
   "cell_type": "code",
   "execution_count": 25,
   "metadata": {},
   "outputs": [
    {
     "name": "stdout",
     "output_type": "stream",
     "text": [
      "[[1 2 3 4]\n",
      " [4 5 6 7]]\n",
      "[1 2 3 4 4 5 6 7]\n"
     ]
    }
   ],
   "source": [
    "a=np.array([[1,2,3,4],[4,5,6,7]])\n",
    "print(a)\n",
    "b=a.flatten()\n",
    "print(b)"
   ]
  },
  {
   "cell_type": "code",
   "execution_count": 28,
   "metadata": {},
   "outputs": [
    {
     "name": "stdout",
     "output_type": "stream",
     "text": [
      "[[1 2 3 4]\n",
      " [4 5 6 7]]\n",
      "[  1   2   3   4   4   5 -10   7]\n"
     ]
    }
   ],
   "source": [
    "b[-2]=-10\n",
    "print(a)\n",
    "print(b)"
   ]
  },
  {
   "cell_type": "code",
   "execution_count": 29,
   "metadata": {},
   "outputs": [
    {
     "name": "stdout",
     "output_type": "stream",
     "text": [
      "5\n"
     ]
    },
    {
     "data": {
      "text/plain": [
       "0"
      ]
     },
     "execution_count": 29,
     "metadata": {},
     "output_type": "execute_result"
    }
   ],
   "source": [
    "k=np.array([1,23,4,2,4,6734,665,6562])\n",
    "print(k.argmax())\n",
    "k.argmin()\n"
   ]
  },
  {
   "cell_type": "code",
   "execution_count": 30,
   "metadata": {},
   "outputs": [
    {
     "name": "stdout",
     "output_type": "stream",
     "text": [
      "[[     4      5      6]\n",
      " [  5674   3456    678]\n",
      " [  3456     34 645787]]\n",
      "Row wise: [2 0 2]\n",
      "coloumn wise: [1 1 2]\n"
     ]
    }
   ],
   "source": [
    "l=np.array([[4,5,6],[5674,3456,678],[3456,34,645787]])\n",
    "print(l)\n",
    "print('Row wise:',l.argmax(axis=1))\n",
    "print('coloumn wise:',l.argmax(axis=0))"
   ]
  },
  {
   "cell_type": "code",
   "execution_count": 31,
   "metadata": {},
   "outputs": [
    {
     "name": "stdout",
     "output_type": "stream",
     "text": [
      "[[     4      5      6]\n",
      " [  5674   3456    678]\n",
      " [  3456     34 645787]]\n",
      "Row wise: [0 2 1]\n",
      "coloumn wise: [0 0 0]\n"
     ]
    }
   ],
   "source": [
    "l=np.array([[4,5,6],[5674,3456,678],[3456,34,645787]])\n",
    "print(l)\n",
    "print('Row wise:',l.argmin(axis=1))\n",
    "print('coloumn wise:',l.argmin(axis=0))"
   ]
  },
  {
   "cell_type": "code",
   "execution_count": 33,
   "metadata": {},
   "outputs": [
    {
     "name": "stdout",
     "output_type": "stream",
     "text": [
      "Help on function vstack in module numpy:\n",
      "\n",
      "vstack(tup)\n",
      "    Stack arrays in sequence vertically (row wise).\n",
      "    \n",
      "    This is equivalent to concatenation along the first axis after 1-D arrays\n",
      "    of shape `(N,)` have been reshaped to `(1,N)`. Rebuilds arrays divided by\n",
      "    `vsplit`.\n",
      "    \n",
      "    This function makes most sense for arrays with up to 3 dimensions. For\n",
      "    instance, for pixel-data with a height (first axis), width (second axis),\n",
      "    and r/g/b channels (third axis). The functions `concatenate`, `stack` and\n",
      "    `block` provide more general stacking and concatenation operations.\n",
      "    \n",
      "    Parameters\n",
      "    ----------\n",
      "    tup : sequence of ndarrays\n",
      "        The arrays must have the same shape along all but the first axis.\n",
      "        1-D arrays must have the same length.\n",
      "    \n",
      "    Returns\n",
      "    -------\n",
      "    stacked : ndarray\n",
      "        The array formed by stacking the given arrays, will be at least 2-D.\n",
      "    \n",
      "    See Also\n",
      "    --------\n",
      "    stack : Join a sequence of arrays along a new axis.\n",
      "    hstack : Stack arrays in sequence horizontally (column wise).\n",
      "    dstack : Stack arrays in sequence depth wise (along third dimension).\n",
      "    concatenate : Join a sequence of arrays along an existing axis.\n",
      "    vsplit : Split array into a list of multiple sub-arrays vertically.\n",
      "    block : Assemble arrays from blocks.\n",
      "    \n",
      "    Examples\n",
      "    --------\n",
      "    >>> a = np.array([1, 2, 3])\n",
      "    >>> b = np.array([2, 3, 4])\n",
      "    >>> np.vstack((a,b))\n",
      "    array([[1, 2, 3],\n",
      "           [2, 3, 4]])\n",
      "    \n",
      "    >>> a = np.array([[1], [2], [3]])\n",
      "    >>> b = np.array([[2], [3], [4]])\n",
      "    >>> np.vstack((a,b))\n",
      "    array([[1],\n",
      "           [2],\n",
      "           [3],\n",
      "           [2],\n",
      "           [3],\n",
      "           [4]])\n",
      "\n"
     ]
    }
   ],
   "source": [
    "help(np.vstack)"
   ]
  },
  {
   "cell_type": "code",
   "execution_count": 36,
   "metadata": {},
   "outputs": [
    {
     "name": "stdout",
     "output_type": "stream",
     "text": [
      "[[ 1  2  3]\n",
      " [23 44  4]\n",
      " [ 1  2  3]\n",
      " [23 44  4]]\n"
     ]
    }
   ],
   "source": [
    "a=np.array([[1,2,3],[23,44,4]])\n",
    "b=np.array([[1,2,3],[23,44,4]])\n",
    "print(np.vstack((a,b)))"
   ]
  },
  {
   "cell_type": "code",
   "execution_count": 37,
   "metadata": {},
   "outputs": [
    {
     "name": "stdout",
     "output_type": "stream",
     "text": [
      "[[ 1  2  3  1  2  3]\n",
      " [23 44  4 23 44  4]]\n"
     ]
    }
   ],
   "source": [
    "a=np.array([[1,2,3],[23,44,4]])\n",
    "b=np.array([[1,2,3],[23,44,4]])\n",
    "print(np.hstack((a,b)))"
   ]
  },
  {
   "cell_type": "code",
   "execution_count": null,
   "metadata": {},
   "outputs": [],
   "source": []
  }
 ],
 "metadata": {
  "kernelspec": {
   "display_name": "Python 3",
   "language": "python",
   "name": "python3"
  },
  "language_info": {
   "codemirror_mode": {
    "name": "ipython",
    "version": 3
   },
   "file_extension": ".py",
   "mimetype": "text/x-python",
   "name": "python",
   "nbconvert_exporter": "python",
   "pygments_lexer": "ipython3",
   "version": "3.7.3"
  }
 },
 "nbformat": 4,
 "nbformat_minor": 2
}
