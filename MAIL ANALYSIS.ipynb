{
 "cells": [
  {
   "cell_type": "code",
   "execution_count": 2,
   "metadata": {},
   "outputs": [],
   "source": [
    "import pandas as pd\n",
    "import numpy as np\n",
    "import matplotlib.pyplot as plt\n",
    "import seaborn as sns\n",
    "import mailbox as mb\n",
    "import matplotlib.font_manager as fm\n",
    "from dateutil.parser import parse as pdt\n",
    "%matplotlib inline"
   ]
  },
  {
   "cell_type": "code",
   "execution_count": 4,
   "metadata": {},
   "outputs": [],
   "source": [
    "family ='Myriad Pro'\n",
    "tilte_font=fm.FontProperties(family=family,\n",
    "                            style='normal',\n",
    "                            size=20,\n",
    "                            weight='normal',\n",
    "                            stretch='normal')\n",
    "label_font=fm.FontProperties(family=family,\n",
    "                            style='normal',\n",
    "                            size=20,\n",
    "                            weight='normal',\n",
    "                            stretch='normal')\n",
    "ticks_font=fm.FontProperties(family=family,\n",
    "                            style='normal',\n",
    "                            size=20,\n",
    "                            weight='normal',\n",
    "                            stretch='normal')"
   ]
  },
  {
   "cell_type": "markdown",
   "metadata": {},
   "source": [
    "# load the gmail archive and parse dates/times from messages"
   ]
  },
  {
   "cell_type": "code",
   "execution_count": 9,
   "metadata": {},
   "outputs": [
    {
     "name": "stdout",
     "output_type": "stream",
     "text": [
      "there are 4,502 messages in archive.\n"
     ]
    }
   ],
   "source": [
    "path='mail.mbox'\n",
    "mbox=mb.mbox(path)\n",
    "print('there are {:,} messages in archive.'.format(len(mbox)))"
   ]
  },
  {
   "cell_type": "code",
   "execution_count": 16,
   "metadata": {},
   "outputs": [
    {
     "name": "stdout",
     "output_type": "stream",
     "text": [
      "there are 3,971 messages with dates\n",
      "there are 3,971 messages with times\n"
     ]
    }
   ],
   "source": [
    "all_dates=[]\n",
    "all_times=[]\n",
    "for msg in mbox:\n",
    "    if not 'X-Gmail-Lables' in msg or ('X-Gmail-Lables' in msg and not 'Chat' in msg['X-Gmail-Lables']):\n",
    "        if 'Date' in msg and msg['Date'] is not None:\n",
    "            try:\n",
    "                date,time=str(parse_datatime(msg['Date'])).split(' ')\n",
    "            except Exception as e:\n",
    "                print(e,msg['Date'])\n",
    "            all_dates.append(date)\n",
    "            all_times.append(time)\n",
    "        else:\n",
    "            pass\n",
    "print('there are {:,} messages with dates'.format(len(all_dates)))\n",
    "print('there are {:,} messages with times'.format(len(all_times)))    "
   ]
  },
  {
   "cell_type": "code",
   "execution_count": null,
   "metadata": {},
   "outputs": [],
   "source": []
  }
 ],
 "metadata": {
  "kernelspec": {
   "display_name": "Python 3",
   "language": "python",
   "name": "python3"
  },
  "language_info": {
   "codemirror_mode": {
    "name": "ipython",
    "version": 3
   },
   "file_extension": ".py",
   "mimetype": "text/x-python",
   "name": "python",
   "nbconvert_exporter": "python",
   "pygments_lexer": "ipython3",
   "version": "3.7.3"
  }
 },
 "nbformat": 4,
 "nbformat_minor": 2
}
