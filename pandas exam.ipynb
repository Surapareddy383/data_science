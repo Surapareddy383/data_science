{
 "cells": [
  {
   "cell_type": "markdown",
   "metadata": {},
   "source": [
    "# 2 problem"
   ]
  },
  {
   "cell_type": "code",
   "execution_count": 1,
   "metadata": {},
   "outputs": [],
   "source": [
    "import pandas as pd\n"
   ]
  },
  {
   "cell_type": "code",
   "execution_count": 32,
   "metadata": {},
   "outputs": [
    {
     "name": "stdout",
     "output_type": "stream",
     "text": [
      "<PandasArray>\n",
      "[3, 7, 11, 15, 19]\n",
      "Length: 5, dtype: int32 <PandasArray>\n",
      "[1, 1, 1, 1, 1]\n",
      "Length: 5, dtype: int32 <PandasArray>\n",
      "[2, 12, 30, 56, 90]\n",
      "Length: 5, dtype: int32 <PandasArray>\n",
      "[2.0, 1.3333333333333333, 1.2, 1.1428571428571428, 1.1111111111111112]\n",
      "Length: 5, dtype: float64\n"
     ]
    }
   ],
   "source": [
    "a=pd.array([2, 4, 6, 8, 10])\n",
    "b=pd.array([1, 3, 5, 7, 9])\n",
    "c=a+b\n",
    "d=a-b\n",
    "e=a*b\n",
    "f=a/b\n",
    "print(c,d,e,f)"
   ]
  },
  {
   "cell_type": "markdown",
   "metadata": {},
   "source": [
    "# problem 7"
   ]
  },
  {
   "cell_type": "code",
   "execution_count": 3,
   "metadata": {},
   "outputs": [],
   "source": [
    "import numpy as np"
   ]
  },
  {
   "cell_type": "code",
   "execution_count": 16,
   "metadata": {},
   "outputs": [
    {
     "data": {
      "text/plain": [
       "array([[1, 2, 3],\n",
       "       [4, 5, 6],\n",
       "       [7, 8, 9]])"
      ]
     },
     "execution_count": 16,
     "metadata": {},
     "output_type": "execute_result"
    }
   ],
   "source": [
    "a=np.arange(start=1,stop=10).reshape(3,3)\n",
    "a"
   ]
  },
  {
   "cell_type": "markdown",
   "metadata": {},
   "source": [
    "# problem 8"
   ]
  },
  {
   "cell_type": "code",
   "execution_count": 20,
   "metadata": {},
   "outputs": [
    {
     "name": "stdout",
     "output_type": "stream",
     "text": [
      "[1 2 3 4 5 6 7 4 9]\n",
      "[[1 2 3]\n",
      " [4 5 6]\n",
      " [7 6 9]]\n",
      "[1 2 3 4 5 6 7 6 9]\n",
      "[[1 2 3]\n",
      " [4 5 6]\n",
      " [7 6 9]]\n"
     ]
    }
   ],
   "source": [
    "a\n",
    "b=np.ravel(a)\n",
    "c=a.flatten()\n",
    "b[-2]=6\n",
    "c[-2]=4\n",
    "print(c)\n",
    "print(a)\n",
    "print(b)\n",
    "print(a)"
   ]
  },
  {
   "cell_type": "markdown",
   "metadata": {},
   "source": [
    "# problem 9"
   ]
  },
  {
   "cell_type": "code",
   "execution_count": 26,
   "metadata": {},
   "outputs": [
    {
     "name": "stdout",
     "output_type": "stream",
     "text": [
      "[ 1  3  6 10 15 21 28 34 43]\n",
      "1\n",
      "9\n",
      "4.777777777777778\n",
      "[     1      2      6     24    120    720   5040  30240 272160]\n",
      "2.3934065809486684\n"
     ]
    }
   ],
   "source": [
    "a\n",
    "print(a.cumsum())\n",
    "print(a.min())\n",
    "print(a.max())\n",
    "print(a.mean())\n",
    "print(a.cumprod())\n",
    "print(a.std())"
   ]
  },
  {
   "cell_type": "markdown",
   "metadata": {},
   "source": [
    "# problem 10"
   ]
  },
  {
   "cell_type": "code",
   "execution_count": 40,
   "metadata": {},
   "outputs": [
    {
     "name": "stdout",
     "output_type": "stream",
     "text": [
      "[[ 1  2  3]\n",
      " [23 44  4]\n",
      " [ 1  2  3]\n",
      " [23 44  4]]\n",
      "[[ 1  2  3  1  2  3]\n",
      " [23 44  4 23 44  4]]\n"
     ]
    }
   ],
   "source": [
    "a=np.array([[1,2,3],[23,44,4]])\n",
    "b=np.array([[1,2,3],[23,44,4]])\n",
    "print(np.vstack((a,b)))\n",
    "print(np.hstack((a,b)))"
   ]
  },
  {
   "cell_type": "code",
   "execution_count": null,
   "metadata": {},
   "outputs": [],
   "source": []
  }
 ],
 "metadata": {
  "kernelspec": {
   "display_name": "Python 3",
   "language": "python",
   "name": "python3"
  },
  "language_info": {
   "codemirror_mode": {
    "name": "ipython",
    "version": 3
   },
   "file_extension": ".py",
   "mimetype": "text/x-python",
   "name": "python",
   "nbconvert_exporter": "python",
   "pygments_lexer": "ipython3",
   "version": "3.7.3"
  }
 },
 "nbformat": 4,
 "nbformat_minor": 2
}
